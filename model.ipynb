{
 "cells": [
  {
   "cell_type": "markdown",
   "metadata": {},
   "source": [
    "# Google Map Temporal Distances AI Model"
   ]
  },
  {
   "cell_type": "code",
   "execution_count": null,
   "metadata": {},
   "outputs": [],
   "source": [
    "import tensorflow as tf\n",
    "from tensorflow.keras.models import Sequential\n",
    "from tensorflow.keras.layers import Input, Dense, PReLU\n",
    "import pandas as pd"
   ]
  },
  {
   "cell_type": "markdown",
   "metadata": {},
   "source": [
    "### Load dataset"
   ]
  },
  {
   "cell_type": "code",
   "execution_count": null,
   "metadata": {},
   "outputs": [],
   "source": [
    "trips_original = pd.read_json(\"datasets/trips_france.json\")\n",
    "display(trips_original.head(10))"
   ]
  },
  {
   "cell_type": "markdown",
   "metadata": {},
   "source": [
    "### Split into training and testing"
   ]
  },
  {
   "cell_type": "markdown",
   "metadata": {},
   "source": [
    "**Nota Bene:** We will make the assumption that a trip takes the same duration in both directions (ie that they are symetric). This way we can double the size of our dataset essentially for free. We will also consider that the time it take to go from city A to itself is 0."
   ]
  },
  {
   "cell_type": "code",
   "execution_count": null,
   "metadata": {},
   "outputs": [],
   "source": [
    "# duplicate the trips dataframe\n",
    "trips = trips_original.copy(deep=True)\n",
    "\n",
    "# add symetry\n",
    "trips_2 = trips.copy(deep=True)\n",
    "trips_2[\"start_city_name\"], trips_2[\"start_city_lat\"], trips_2[\"start_city_lng\"] = trips[\"end_city_name\"], trips[\"end_city_lat\"], trips[\"end_city_lng\"]\n",
    "trips_2[\"end_city_name\"], trips_2[\"end_city_lat\"], trips_2[\"end_city_lng\"] = trips[\"start_city_name\"], trips[\"start_city_lat\"], trips[\"start_city_lng\"]\n",
    "trips = pd.concat([trips, trips_2])\n",
    "\n",
    "# add zeros\n",
    "zeros = trips.copy(deep=True)\n",
    "zeros[\"end_city_name\"] = zeros[\"start_city_name\"]\n",
    "zeros[\"end_city_lat\"] = zeros[\"start_city_lat\"]\n",
    "zeros[\"end_city_lng\"] = zeros[\"start_city_lng\"]\n",
    "zeros[\"duration\"] = 0\n",
    "trips = pd.concat([trips, zeros])\n",
    "\n",
    "# # shuffle\n",
    "# trips = trips.sample(frac = 1)\n",
    "\n",
    "# # split input and output\n",
    "# train_input = trips[[\"start_city_lat\", \"start_city_lng\", \"end_city_lat\", \"end_city_lng\"]]\n",
    "# train_output = trips[[\"duration\"]]\n",
    "\n",
    "# # show dataset's size\n",
    "# print(len(trips))"
   ]
  },
  {
   "cell_type": "markdown",
   "metadata": {},
   "source": [
    "### Create the model\n",
    "The use a PReLU for the activation function as it seems to be really good at preventing vanishing gradient problems."
   ]
  },
  {
   "cell_type": "code",
   "execution_count": null,
   "metadata": {},
   "outputs": [],
   "source": [
    "model = Sequential(\n",
    "  [\n",
    "    Input(shape=(4,), name=\"layer_input\"),\n",
    "    Dense(10, activation=PReLU(), name=\"layer_1\"),\n",
    "    Dense(20, activation=PReLU(), name=\"layer_2\"),\n",
    "    Dense(20, activation=PReLU(), name=\"layer_3\"),\n",
    "    Dense(20, activation=PReLU(), name=\"layer_4\"),\n",
    "    Dense(10, activation=PReLU(), name=\"layer_5\"),\n",
    "    Dense(1, activation=PReLU(), name=\"layer_output\"),\n",
    "  ]\n",
    ")\n",
    "\n",
    "model.compile(optimizer=\"adam\", loss=\"mse\")\n",
    "model.build()\n",
    "model.summary()"
   ]
  },
  {
   "cell_type": "markdown",
   "metadata": {},
   "source": [
    "### Train the model"
   ]
  },
  {
   "cell_type": "code",
   "execution_count": null,
   "metadata": {},
   "outputs": [],
   "source": [
    "history = model.fit(train_input, train_output, batch_size=100, epochs=50, validation_data=(train_input, train_output))"
   ]
  },
  {
   "cell_type": "markdown",
   "metadata": {},
   "source": [
    "## Backup the trained model"
   ]
  },
  {
   "cell_type": "code",
   "execution_count": null,
   "metadata": {},
   "outputs": [],
   "source": [
    "# TODO"
   ]
  }
 ],
 "metadata": {
  "kernelspec": {
   "display_name": "Python 3.10.4 64-bit",
   "language": "python",
   "name": "python3"
  },
  "language_info": {
   "codemirror_mode": {
    "name": "ipython",
    "version": 3
   },
   "file_extension": ".py",
   "mimetype": "text/x-python",
   "name": "python",
   "nbconvert_exporter": "python",
   "pygments_lexer": "ipython3",
   "version": "3.10.4"
  },
  "vscode": {
   "interpreter": {
    "hash": "31f2aee4e71d21fbe5cf8b01ff0e069b9275f58929596ceb00d14d90e3e16cd6"
   }
  }
 },
 "nbformat": 4,
 "nbformat_minor": 2
}
